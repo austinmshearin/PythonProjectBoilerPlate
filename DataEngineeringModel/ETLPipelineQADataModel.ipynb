{
 "cells": [
  {
   "cell_type": "markdown",
   "id": "cfc32e9a-0602-4a65-936d-a79f685212f4",
   "metadata": {},
   "source": [
    "# Packages"
   ]
  },
  {
   "cell_type": "code",
   "execution_count": null,
   "id": "9173074a-b79d-4c16-8be9-268142153f2f",
   "metadata": {},
   "outputs": [],
   "source": [
    "import json"
   ]
  },
  {
   "cell_type": "markdown",
   "id": "1fb9f9b1-5c4f-471d-a24b-013c975c90c3",
   "metadata": {},
   "source": [
    "# Dummy Data"
   ]
  },
  {
   "cell_type": "markdown",
   "id": "a34a64ca-ab45-4a53-aaeb-39151efcc83b",
   "metadata": {},
   "source": [
    "The ingest data should be a JSON formatted string. Additions should be made to increase flexibility including incorporating nested dictionaries and arrays, converting other types of null values automatically (\"nan\", \"NaN\", \"\", ...), and potentially strings with multiple JSON objects (\"[{},{}]\", \"{}{}\" or \"{},{}\")"
   ]
  },
  {
   "cell_type": "code",
   "execution_count": null,
   "id": "68bcebb2-3678-4b66-a874-4a76d61620d3",
   "metadata": {},
   "outputs": [],
   "source": [
    "ingestData = '''{\n",
    "    \"expected_str\": \"A\",\n",
    "    \"expected_int\": 1,\n",
    "    \"expected_float\": 1.0,\n",
    "    \"expected_none\": null,\n",
    "    \"expected_incorrectType\": \"AA\",\n",
    "    \"unexpected\": \"B\"\n",
    "    }'''"
   ]
  },
  {
   "cell_type": "markdown",
   "id": "76ba9450-38cc-4daa-be47-4fdfb4dbcf23",
   "metadata": {},
   "source": [
    "# Dummmy Data Model"
   ]
  },
  {
   "cell_type": "markdown",
   "id": "a5bfad74-e55d-432e-87d5-f41f47ee3d69",
   "metadata": {},
   "source": [
    "The data model defines the expected data fields and their types to exist in the JSON string"
   ]
  },
  {
   "cell_type": "code",
   "execution_count": null,
   "id": "8601d09b-889f-4283-84fd-734833348346",
   "metadata": {},
   "outputs": [],
   "source": [
    "dataModel = {\n",
    "    \"expected_str\": str,\n",
    "    \"expected_int\": int,\n",
    "    \"expected_float\": float,\n",
    "    \"expected_none\": str,\n",
    "    \"expected_incorrectType\": int,\n",
    "    \"expected_missing\": str\n",
    "}"
   ]
  },
  {
   "cell_type": "markdown",
   "id": "9566f2f1-104f-4970-a414-26c024fcf257",
   "metadata": {},
   "source": [
    "# Data Ingestion Class"
   ]
  },
  {
   "cell_type": "markdown",
   "id": "adab8aca-7ec7-4ea0-8d6a-e8785eed6896",
   "metadata": {},
   "source": [
    "The data ingestion class can utilize custom exceptions to catch errors in development, but should not catch exceptions from any deviations between the data and the data model"
   ]
  },
  {
   "cell_type": "code",
   "execution_count": null,
   "id": "09933441-ec65-4423-8be3-63f350010dd3",
   "metadata": {},
   "outputs": [],
   "source": [
    "class ingestDataTypeError(Exception):\n",
    "    \"\"\"\n",
    "    Incorrect ingest data type received for the ingestData parameter\n",
    "    \"\"\"\n",
    "    def __init__(self, typeReceived):\n",
    "        message = f\"The ingestData of the JSONDataIngestion must be a string, but received a {typeReceived}\"\n",
    "        super().__init__(message)\n",
    "\n",
    "class dataModelTypeError(Exception):\n",
    "    \"\"\"\n",
    "    Incorrect data model type received for the dataModel parameter\n",
    "    \"\"\"\n",
    "    def __init__(self, typeReceived):\n",
    "        message = f\"The dataModel of the JSONDataIngestion must be a dictionary, but received a {typeReceived}\"\n",
    "        super().__init__(message)"
   ]
  },
  {
   "cell_type": "markdown",
   "id": "627a9553-2f8b-4484-b3d7-802985542f91",
   "metadata": {},
   "source": [
    "The data ingestion class parses and formats the incoming data, validates the data when compared to the data model, and outputs any deviations between the data and the data model"
   ]
  },
  {
   "cell_type": "code",
   "execution_count": null,
   "id": "8d5e2f9f-4b4b-4d0d-8819-63d890f7234e",
   "metadata": {},
   "outputs": [],
   "source": [
    "class JSONDataIngestion:\n",
    "    \"\"\"\n",
    "    The JSON data ingestion class\n",
    "    \"\"\"\n",
    "    \n",
    "    def __init__(self, ingestData: str, dataModel: dict):\n",
    "        \"\"\"\n",
    "        JSON data ingestion constructor\n",
    "\n",
    "        Parameters\n",
    "        ----------\n",
    "        ingestData: str\n",
    "            The raw JSON formatted string\n",
    "        dataModel: str\n",
    "            The data model\n",
    "\n",
    "        Notes\n",
    "        -----\n",
    "        ex. ingestData: \"{'field1': 'A', 'field2': 1, 'field3': 1.0}\"\n",
    "        ex. dataModel: {'field1': str, 'field2': int, 'field3': float, ...}\n",
    "        \"\"\"\n",
    "        # Validating input data types\n",
    "        if type(ingestData) != str:\n",
    "            raise ingestDataTypeError(type(ingestData))\n",
    "        if type(dataModel) != dict:\n",
    "            raise dataModelTypeError(type(dataModel))\n",
    "        # Storing raw ingested data\n",
    "        self._ingestData = ingestData\n",
    "        # Storing data model\n",
    "        self._dataModel = dataModel\n",
    "        # Ingestion validation feedback\n",
    "        self._validation = {\n",
    "            'incorrectJSONFormat': False,\n",
    "            'incorrectDataType': [],\n",
    "            'unexpectedData': [],\n",
    "            'expectedData': []\n",
    "        }\n",
    "        # Formatted data output\n",
    "        self._data = {}\n",
    "        # Ingest data\n",
    "        self.ingest()\n",
    "        \n",
    "    def _get_ingestData(self):\n",
    "        \"\"\"\n",
    "        ingestData property getter method\n",
    "        \"\"\"\n",
    "        return self._ingestData\n",
    "\n",
    "    ingestData = property(\n",
    "        fget=_get_ingestData,\n",
    "        doc=\"The raw JSON formatted string\"\n",
    "    )\n",
    "\n",
    "    def _get_dataModel(self):\n",
    "        \"\"\"\n",
    "        dataModel property getter method\n",
    "        \"\"\"\n",
    "        return self._dataModel\n",
    "\n",
    "    dataModel = property(\n",
    "        fget=_get_dataModel,\n",
    "        doc=\"The data model\"\n",
    "    )\n",
    "\n",
    "    def _get_data(self):\n",
    "        \"\"\"\n",
    "        data property getter method\n",
    "        \"\"\"\n",
    "        return self._data\n",
    "\n",
    "    data = property(\n",
    "        fget=_get_data,\n",
    "        doc=\"The formatted data\"\n",
    "    )\n",
    "\n",
    "    def _get_validation(self):\n",
    "        \"\"\"\n",
    "        The validation property getter method\n",
    "        \"\"\"\n",
    "        return self._validation\n",
    "\n",
    "    validation = property(\n",
    "        fget=_get_validation,\n",
    "        doc=\"The ingestion validation feedback\"\n",
    "    )\n",
    "\n",
    "    def ingest(self):\n",
    "        \"\"\"\n",
    "        JSON data ingestion method\n",
    "        \"\"\"\n",
    "        # ___ Load data and model ___\n",
    "        ingestData = self._ingestData\n",
    "        dataModel = self._dataModel\n",
    "        # ___ Convert raw JSON string to object ___\n",
    "        # Try to parse the ingested data string\n",
    "        try:\n",
    "            data = json.loads(ingestData)\n",
    "        # If ingested data string can not be parsed as a JSON object\n",
    "        except json.JSONDecodeError:\n",
    "            # Set the validation feedback for incorrect JSON format\n",
    "            self._validation['incorrectJSONFormat'] = True\n",
    "            # No data will be returned\n",
    "            self._data = None\n",
    "            return\n",
    "        # All other exceptions will be raised\n",
    "        except Exception as e:\n",
    "            raise(e)\n",
    "        # ___ Validate data in ingested data ___\n",
    "        # Check every entry in the ingested data string\n",
    "        for key, value in data.items():\n",
    "            # Set the output data to the value received\n",
    "            self._data[key] = value\n",
    "            # If there is a matching key in the model\n",
    "            if key in dataModel.keys():\n",
    "                # If the data in the key does not match the type of data in the model or is None\n",
    "                if (type(value) not in [dataModel[key], type(None)]):\n",
    "                    # Set the validation feedback to incorrect data type received\n",
    "                    self._validation['incorrectDataType'].append({\n",
    "                        key: type(value)\n",
    "                    })\n",
    "            # If there is not a matching key in the model\n",
    "            else:\n",
    "                # Set the validation feedback to unexpected data received\n",
    "                self._validation['unexpectedData'].append(key)\n",
    "        # ___ Validate data expected from model ___\n",
    "        # Check every entry in the model\n",
    "        for key, value in dataModel.items():\n",
    "            # If key was not received in the ingested data\n",
    "            if key not in self._data.keys():\n",
    "                # Set the output data to None since it was not received\n",
    "                self._data[key] = None\n",
    "                # Set the validation feedback to data not received\n",
    "                self._validation['expectedData'].append(key)"
   ]
  },
  {
   "cell_type": "markdown",
   "id": "1df0126c-f8d5-46f1-ba05-a5258d75b8e3",
   "metadata": {},
   "source": [
    "# Example Usage"
   ]
  },
  {
   "cell_type": "markdown",
   "id": "d3567701-284b-46e9-afd9-35516b5fb3b4",
   "metadata": {},
   "source": [
    "## Creating data model object"
   ]
  },
  {
   "cell_type": "code",
   "execution_count": null,
   "id": "57d61db7-506f-4e60-8891-c15077ec6bd3",
   "metadata": {},
   "outputs": [],
   "source": [
    "dummyModel = JSONDataIngestion(ingestData, dataModel)"
   ]
  },
  {
   "cell_type": "markdown",
   "id": "5c7dd504-d922-4fcc-8e82-103d6293819a",
   "metadata": {},
   "source": [
    "## Accessing private properties"
   ]
  },
  {
   "cell_type": "markdown",
   "id": "7bd6c866-0850-421c-85a5-a4eae98cba2e",
   "metadata": {},
   "source": [
    "Private fields in the model can be accessed through the public properties"
   ]
  },
  {
   "cell_type": "code",
   "execution_count": null,
   "id": "70d7c88a-6514-4647-bd4b-ab48d9d1dce6",
   "metadata": {},
   "outputs": [],
   "source": [
    "print(dummyModel.ingestData)"
   ]
  },
  {
   "cell_type": "markdown",
   "id": "2d821cf2-bcfc-4bc7-9fc9-3efd81f330b8",
   "metadata": {},
   "source": [
    "## Setting private properties"
   ]
  },
  {
   "cell_type": "markdown",
   "id": "19154990-1755-4aec-857d-d928646fb039",
   "metadata": {},
   "source": [
    "Public properties can not be modified after the data is ingested to prevent any data corruption. Python does not prevent the alteration of private fields, but best practice is to not modify any private fields."
   ]
  },
  {
   "cell_type": "code",
   "execution_count": null,
   "id": "cf790a84-d0c3-4eb1-aa6f-ac8c14121b96",
   "metadata": {},
   "outputs": [],
   "source": [
    "try:\n",
    "    dummyModel.ingestData = \"{'field1': 'A'}\"\n",
    "except AttributeError:\n",
    "    print(\"Private property can not be overwritten\")\n",
    "except Exception as e:\n",
    "    print(e)"
   ]
  },
  {
   "cell_type": "markdown",
   "id": "c079004b-f326-42aa-bbdf-cc3f9daecc12",
   "metadata": {},
   "source": [
    "## Data output and validation"
   ]
  },
  {
   "cell_type": "markdown",
   "id": "f7df15f6-b883-44ab-9627-591c6e419409",
   "metadata": {},
   "source": [
    "The formatted data and validation can be accessed through the properties and are available immediately after ingestion"
   ]
  },
  {
   "cell_type": "code",
   "execution_count": null,
   "id": "3f0990b3-ada9-4401-b99f-705c3ad69508",
   "metadata": {},
   "outputs": [],
   "source": [
    "print(\"Output Data:\")\n",
    "print(dummyModel.data, end=\"\\n\\n\")\n",
    "print(\"Data Validation:\")\n",
    "print(dummyModel.validation)"
   ]
  },
  {
   "cell_type": "markdown",
   "id": "5893b5a7-2e22-4ee1-bf7f-ead34ff9f93c",
   "metadata": {},
   "source": [
    "# Error Catching"
   ]
  },
  {
   "cell_type": "markdown",
   "id": "2077f41d-384a-417b-80c1-e6bfe26cafa3",
   "metadata": {},
   "source": [
    "## Incorrect JSON format"
   ]
  },
  {
   "cell_type": "markdown",
   "id": "3e4ed998-4f60-4796-9990-bee7133bd3fb",
   "metadata": {},
   "source": [
    "Any errors that exist due to the format of the data should not be raised as exceptions, but should be logged in the validation"
   ]
  },
  {
   "cell_type": "code",
   "execution_count": null,
   "id": "2fc95f74-bf68-41e7-b0f2-ae2cbd6a51b7",
   "metadata": {},
   "outputs": [],
   "source": [
    "poorFormatJSON = JSONDataIngestion(\"{'field1': 'A'\", {'field1': str})\n",
    "print(\"Data Output:\")\n",
    "print(poorFormatJSON.data, end=\"\\n\\n\")\n",
    "print(\"Validation Output:\")\n",
    "print(poorFormatJSON.validation)"
   ]
  },
  {
   "cell_type": "markdown",
   "id": "7b53e576-b44e-4acc-91dc-663511188ffa",
   "metadata": {},
   "source": [
    "## Incorrect input data types"
   ]
  },
  {
   "cell_type": "markdown",
   "id": "724b60d6-0222-4bbe-9a1d-e306840b2bda",
   "metadata": {},
   "source": [
    "Exceptions that would be caused due to incorrect use of the data ingestion method should raise exceptions as these should be caught during development"
   ]
  },
  {
   "cell_type": "code",
   "execution_count": null,
   "id": "2116cf7d-2dfb-4e1a-a748-3367ae5cebdd",
   "metadata": {},
   "outputs": [],
   "source": [
    "try:\n",
    "    poorIngestDataType = JSONDataIngestion({'A': 'a'}, {'A': str})\n",
    "except ingestDataTypeError as e:\n",
    "    print(e)\n",
    "except Exception as e:\n",
    "    print(e)"
   ]
  },
  {
   "cell_type": "code",
   "execution_count": null,
   "id": "c1180175-8b36-49f2-af39-4b6972d8cee9",
   "metadata": {},
   "outputs": [],
   "source": [
    "try:\n",
    "    poorDataModel = JSONDataIngestion(\"{'A': 'a'}\", \"{'A': str}\")\n",
    "except ingestDataTypeError as e:\n",
    "    print(e)\n",
    "except Exception as e:\n",
    "    print(e)"
   ]
  }
 ],
 "metadata": {
  "kernelspec": {
   "display_name": "ETLPipelineDataQA_VirEnv",
   "language": "python",
   "name": "etlpipelinedataqa_virenv"
  },
  "language_info": {
   "codemirror_mode": {
    "name": "ipython",
    "version": 3
   },
   "file_extension": ".py",
   "mimetype": "text/x-python",
   "name": "python",
   "nbconvert_exporter": "python",
   "pygments_lexer": "ipython3",
   "version": "3.12.0"
  }
 },
 "nbformat": 4,
 "nbformat_minor": 5
}
